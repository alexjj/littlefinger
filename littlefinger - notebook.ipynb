{
 "cells": [
  {
   "cell_type": "markdown",
   "metadata": {},
   "source": [
    "# Littlefinger\n",
    "\n",
    "   -*Slyly telling you where your money goes*"
   ]
  },
  {
   "cell_type": "markdown",
   "metadata": {},
   "source": [
    "## Table of Contents\n",
    "\n",
    "TODO\n",
    "\n",
    "Reports:\n",
    "For both just US and UK and all transactions in GBP as it cost me:\n",
    "\n",
    "Master categories, table, graph:\n",
    "Income per month\n",
    "Expenses per month\n"
   ]
  },
  {
   "cell_type": "markdown",
   "metadata": {},
   "source": [
    "## Boilerplate"
   ]
  },
  {
   "cell_type": "code",
   "execution_count": null,
   "metadata": {
    "collapsed": false
   },
   "outputs": [],
   "source": [
    "import pandas as pd\n",
    "import numpy as np\n",
    "from datetime import datetime, timedelta\n",
    "from dateutil.parser import parse\n",
    "import seaborn as sns\n",
    "import matplotlib.pyplot as plt\n",
    "from pandas.tseries.offsets import *\n",
    "\n",
    "%matplotlib inline\n",
    "%load_ext autoreload\n",
    "%autoreload 2\n",
    "pd.set_option('float_format', '{:.2f}'.format)\n",
    "plt.style.use('seaborn-colorblind')\n",
    "cm = sns.light_palette(\"green\", as_cmap=True)"
   ]
  },
  {
   "cell_type": "markdown",
   "metadata": {},
   "source": [
    "## Import data and set variables"
   ]
  },
  {
   "cell_type": "code",
   "execution_count": null,
   "metadata": {
    "collapsed": true
   },
   "outputs": [],
   "source": [
    "excel = pd.ExcelFile(\"C:\\\\Users\\\\aowd\\OneDrive - Chevron\\\\Special Projects\\\\littlefinger\\\\Money1.2.xlsx\")\n",
    "uk = excel.parse('UK')\n",
    "us = excel.parse('US')\n",
    "funds = excel.parse('Investments')\n",
    "prices = excel.parse('Funds')\n",
    "forex = excel.parse('Forex')\n",
    "\n",
    "now = datetime.now()\n",
    "weekago = now - timedelta(7)\n",
    "months = ['Jan', 'Feb', 'Mar', 'Apr', 'May', 'Jun', 'Jul', 'Aug', 'Sep', 'Oct', 'Nov', 'Dec']\n",
    "rows = ['Car', 'Entertainment', 'Fees', 'Food', 'Gift', 'Health', 'Home', 'Kids', 'NBC', 'Pets', 'Shopping', 'Travel']"
   ]
  },
  {
   "cell_type": "markdown",
   "metadata": {},
   "source": [
    "## Preprocess Data"
   ]
  },
  {
   "cell_type": "code",
   "execution_count": null,
   "metadata": {
    "collapsed": true
   },
   "outputs": [],
   "source": [
    "def tidyxacts(df):\n",
    "    \"\"\"\n",
    "    Fix formats of columns for transactions in dataframe df\n",
    "\n",
    "    Parameters\n",
    "    ----------\n",
    "    df : Dataframe\n",
    "\n",
    "    Returns\n",
    "    -------\n",
    "    Date formatted as Date\n",
    "    Amounts as numeric\n",
    "    Adds columns for year, month, quarter, week number\n",
    "    Sets date as index\n",
    "    \"\"\"\n",
    "\n",
    "    df['Date'] = pd.to_datetime(df['Date'])\n",
    "    df['Inflow'] = pd.to_numeric(df['Inflow'])\n",
    "    df['Outflow'] = pd.to_numeric(df['Outflow'])\n",
    "    df['Net'] = pd.to_numeric(df['Net'])\n",
    "    # df['Master Category'] = df['Master Category'].astype(\"category\")\n",
    "    # df['Sub Category'] = df['Sub Category'].astype(\"category\")\n",
    "    # df['Year'], df['Month'] = df['Date'].dt.year, df['Date'].dt.strftime('%b')\n",
    "    df['Year'], df['Month'] = df['Date'].dt.year, df['Date'].dt.month\n",
    "    df['Quarter'], df['Week'] = df['Date'].dt.quarter, df['Date'].dt.week\n",
    "    df.set_index(['Date'], inplace=True)\n",
    "   \n",
    "def xact_type(df):\n",
    "    \"\"\"\n",
    "    Adds transfer, expense, income category column to df  \n",
    "    \"\"\"\n",
    "    def categorise(row):\n",
    "        if row['Master Category'] == \"Transfer\":\n",
    "            return 'Transfer'\n",
    "        if row['Master Category'] == \"Income\":\n",
    "            return 'Income'\n",
    "        return 'Expense'\n",
    "\n",
    "    df['Type'] = df.apply(lambda row: categorise(row), axis=1)\n",
    "\n",
    "def summary_tables(df, currency, type):\n",
    "    \n",
    "    \n",
    "tidyxacts(uk)\n",
    "tidyxacts(us)\n",
    "xact_type(uk)\n",
    "xact_type(us)"
   ]
  },
  {
   "cell_type": "markdown",
   "metadata": {},
   "source": [
    "### Create all transaction table in GBP"
   ]
  },
  {
   "cell_type": "code",
   "execution_count": null,
   "metadata": {
    "collapsed": true
   },
   "outputs": [],
   "source": [
    "forex.set_index(['Date'], inplace=True) # Set date to be index\n",
    "forex = forex['Exchange Rate'] # Only keep exchange column\n",
    "usex =  us.join(other=forex, how='outer')\n",
    "usex['Exchange Rate'].fillna(method='ffill', inplace=True)\n",
    "usex['Net GBP'] = usex['Net'] / usex['Exchange Rate']\n",
    "usgbp = usex.drop(['Net', 'Exchange Rate'], axis=1)\n",
    "usgbp.rename(columns={'Net GBP':'Net'}, inplace=True)\n",
    "allgbp = pd.concat([uk, usgbp], axis=0)"
   ]
  },
  {
   "cell_type": "markdown",
   "metadata": {},
   "source": [
    "## Results\n",
    "\n",
    "### All Expenses in GBP"
   ]
  },
  {
   "cell_type": "code",
   "execution_count": null,
   "metadata": {
    "collapsed": false
   },
   "outputs": [],
   "source": [
    "summary = pd.pivot_table(allgbp['2017'].query('Type == [\"Expense\"]'), index=['Master Category'], columns=['Month'], values=['Net'], aggfunc=np.sum, fill_value=0)\n",
    "summary.columns = months[:now.month] # Renames to months based off current month\n",
    "summary = summary * -1 # We're just looking at expenses\n",
    "summary['Total'] = summary.sum(axis=1) # adds total to categories\n",
    "summary['Average'] = summary.iloc[:, :-2].mean(axis=1) # adds average column for categories, iloc to ignore total col, -2 to only have full months\n",
    "summary.loc['Total']= summary.sum() # adds total row at bottom\n",
    "summary['EOY'] = summary['Total'] + (summary['Average'] * (now.month - 1))\n",
    "summary.style.format(\"£{:,.2f}\")\n"
   ]
  },
  {
   "cell_type": "code",
   "execution_count": null,
   "metadata": {
    "collapsed": false
   },
   "outputs": [],
   "source": [
    "# Expense per month Heatmap\n",
    "# Ignoring housing and total rows - tend to mask the rest\n",
    "summary.style.background_gradient(cmap=cm, subset=pd.IndexSlice[rows,summary.columns[:-2]], axis=1).format(\"£{:,.2f}\").set_caption('Monthly Summary')"
   ]
  },
  {
   "cell_type": "markdown",
   "metadata": {},
   "source": [
    "### Income"
   ]
  },
  {
   "cell_type": "code",
   "execution_count": null,
   "metadata": {
    "collapsed": false
   },
   "outputs": [],
   "source": [
    "income = pd.pivot_table(allgbp['2017'].query('Type == [\"Income\"]'), index=['Sub Category'], columns=['Month'], values=['Net'], aggfunc=np.sum, fill_value=0)\n",
    "income.columns = months[:now.month] # Renames to months based off current month\n",
    "income['Total'] = income.sum(axis=1) # adds total to categories\n",
    "income['Average'] = income.iloc[:, :-2].mean(axis=1) # adds average column for categories, iloc to ignore total col, -2 to only have full months\n",
    "income.loc['Total']= income.sum() # adds total row at bottom\n",
    "income['EOY'] = income['Total'] + (income['Average'] * (now.month - 1))\n",
    "income.style.format(\"£{:,.2f}\")"
   ]
  },
  {
   "cell_type": "code",
   "execution_count": null,
   "metadata": {
    "collapsed": false
   },
   "outputs": [],
   "source": [
    "# Savings Rate\n",
    "1- summary.at['Total', 'EOY']/income.at['Total', 'EOY']"
   ]
  },
  {
   "cell_type": "markdown",
   "metadata": {},
   "source": [
    "## USA\n",
    "### Income"
   ]
  },
  {
   "cell_type": "code",
   "execution_count": null,
   "metadata": {
    "collapsed": false
   },
   "outputs": [],
   "source": [
    "usi = pd.pivot_table(us['2017'].query('Type == [\"Income\"]'), index=['Sub Category'], columns=['Month'], values=['Net'], aggfunc=np.sum, fill_value=0)\n",
    "usi.columns = months[:now.month] # Renames to months based off current month\n",
    "usi['Total'] = usi.sum(axis=1) # adds total to categories\n",
    "usi['Average'] = usi.iloc[:, :-2].mean(axis=1) # adds average column for categories, iloc to ignore total col, -2 to only have full months\n",
    "usi.loc['Total']= usi.sum() # adds total row at bottom\n",
    "usi['EOY'] = usi['Total'] + (usi['Average'] * (now.month - 1))\n",
    "usi.style.format(\"${:,.2f}\")\n"
   ]
  },
  {
   "cell_type": "markdown",
   "metadata": {},
   "source": [
    "### Expenses"
   ]
  },
  {
   "cell_type": "code",
   "execution_count": null,
   "metadata": {
    "collapsed": false
   },
   "outputs": [],
   "source": [
    "use = pd.pivot_table(us['2017'].query('Type == [\"Expense\"]'), index=['Master Category'], columns=['Month'], values=['Net'], aggfunc=np.sum, fill_value=0)\n",
    "use.columns = months[:now.month] # Renames to months based off current month\n",
    "use = use * -1\n",
    "use['Total'] = use.sum(axis=1) # adds total to categories\n",
    "use['Average'] = use.iloc[:, :-2].mean(axis=1) # adds average column for categories, iloc to ignore total col, -2 to only have full months\n",
    "use.loc['Total']= use.sum() # adds total row at bottom\n",
    "use['EOY'] = use['Total'] + (use['Average'] * (now.month - 1))\n",
    "use.style.format(\"${:,.2f}\")"
   ]
  },
  {
   "cell_type": "markdown",
   "metadata": {},
   "source": [
    "## UK\n",
    "### Income"
   ]
  },
  {
   "cell_type": "code",
   "execution_count": null,
   "metadata": {
    "collapsed": false
   },
   "outputs": [],
   "source": [
    "uki = pd.pivot_table(uk['2017'].query('Type == [\"Income\"]'), index=['Sub Category'], columns=['Month'], values=['Net'], aggfunc=np.sum, fill_value=0)\n",
    "#uki.columns = months[:now.month] # Renames to months based off current month\n",
    "uki.columns = months[:now.month - 1]\n",
    "uki['Total'] = uki.sum(axis=1) # adds total to categories\n",
    "uki['Average'] = uki.iloc[:, :-2].mean(axis=1) # adds average column for categories, iloc to ignore total col, -2 to only have full months\n",
    "uki.loc['Total']= uki.sum() # adds total row at bottom\n",
    "uki['EOY'] = uki['Total'] + (uki['Average'] * (now.month - 1))\n",
    "uki.style.format(\"£{:,.2f}\")"
   ]
  },
  {
   "cell_type": "markdown",
   "metadata": {},
   "source": [
    "### Expenses"
   ]
  },
  {
   "cell_type": "code",
   "execution_count": null,
   "metadata": {
    "collapsed": false
   },
   "outputs": [],
   "source": [
    "uke = pd.pivot_table(uk['2017'].query('Type == [\"Expense\"]'), index=['Master Category'], columns=['Month'], values=['Net'], aggfunc=np.sum, fill_value=0)\n",
    "uke.columns = months[:now.month] # Renames to months based off current month\n",
    "uke = uke * -1\n",
    "uke['Total'] = uke.sum(axis=1) # adds total to categories\n",
    "uke['Average'] = uke.iloc[:, :-2].mean(axis=1) # adds average column for categories, iloc to ignore total col, -2 to only have full months\n",
    "uke.loc['Total']= uke.sum() # adds total row at bottom\n",
    "uke['EOY'] = uke['Total'] + (uke['Average'] * (now.month - 1))\n",
    "uke.style.format(\"£{:,.2f}\")"
   ]
  }
 ],
 "metadata": {
  "kernelspec": {
   "display_name": "Python 3",
   "language": "python",
   "name": "python3"
  },
  "language_info": {
   "codemirror_mode": {
    "name": "ipython",
    "version": 3
   },
   "file_extension": ".py",
   "mimetype": "text/x-python",
   "name": "python",
   "nbconvert_exporter": "python",
   "pygments_lexer": "ipython3",
   "version": "3.6.0"
  }
 },
 "nbformat": 4,
 "nbformat_minor": 2
}
